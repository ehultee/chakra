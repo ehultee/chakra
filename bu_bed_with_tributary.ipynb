{
 "cells": [
  {
   "cell_type": "code",
   "execution_count": null,
   "metadata": {},
   "outputs": [],
   "source": [
    "# This allows changes in chakra.py to be automatically re-imported\n",
    "# (this is tricky with OOP though, to be used with care)\n",
    "%load_ext autoreload\n",
    "%autoreload 1\n",
    "%aimport chakra"
   ]
  },
  {
   "cell_type": "code",
   "execution_count": null,
   "metadata": {},
   "outputs": [],
   "source": [
    "import matplotlib.pyplot as plt\n",
    "import numpy as np\n",
    "import time"
   ]
  },
  {
   "cell_type": "code",
   "execution_count": null,
   "metadata": {},
   "outputs": [],
   "source": [
    "# Get the default params\n",
    "from oggm import cfg\n",
    "cfg.initialize(logging_level='WORKFLOW')\n",
    "cfg.PARAMS['cfl_number'] = 0.01  # less numerical instabilities\n",
    "cfg.PARAMS['use_multiprocessing'] = False"
   ]
  },
  {
   "cell_type": "code",
   "execution_count": null,
   "metadata": {},
   "outputs": [],
   "source": [
    "from oggm.core.massbalance import ScalarMassBalance\n",
    "no_mb = ScalarMassBalance()"
   ]
  },
  {
   "cell_type": "markdown",
   "metadata": {},
   "source": [
    "# BU bed with tributary"
   ]
  },
  {
   "cell_type": "code",
   "execution_count": null,
   "metadata": {},
   "outputs": [],
   "source": [
    "bu_fls = chakra.bu_tidewater_bed(split_flowline_before_water=5)\n",
    "\n",
    "xc = np.arange(bu_fls[0].nx + bu_fls[1].nx) * bu_fls[0].dx_meter / 1000\n",
    "x_sep = (bu_fls[0].nx - 0.5) * bu_fls[0].dx_meter / 1000\n",
    "f, ax = plt.subplots(1, 1, figsize=(12, 5))\n",
    "ax.plot(xc, np.append(bu_fls[0].bed_h, bu_fls[1].bed_h), color='k')\n",
    "plt.hlines(0, *xc[[0, -1]], color='C0', linestyles=':')\n",
    "plt.vlines(x_sep, -200, 600, color='C3', linestyles='-')\n",
    "plt.ylim(-350, 1000); plt.ylabel('Altitude [m]'); plt.xlabel('Distance along flowline [km]');"
   ]
  },
  {
   "cell_type": "markdown",
   "metadata": {},
   "source": [
    "# K-calving param with tributary"
   ]
  },
  {
   "cell_type": "markdown",
   "metadata": {},
   "source": [
    "OGGM will work exactly the same with this tributary system (one can test for that). It is however a bit more code to plot it because it is all split in two:"
   ]
  },
  {
   "cell_type": "code",
   "execution_count": null,
   "metadata": {},
   "outputs": [],
   "source": [
    "to_plot = None\n",
    "    \n",
    "one_model = chakra.KCalvingModel(chakra.bu_tidewater_bed(), mb_model=no_mb, \n",
    "                                 flux_gate=0.10,\n",
    "                                 calving_use_limiter=True,\n",
    "                                 do_kcalving=True,\n",
    "                                 is_tidewater=True,\n",
    "                                 calving_k=0.2,\n",
    "                                )\n",
    "    \n",
    "two_model = chakra.KCalvingModel(bu_fls, mb_model=no_mb, \n",
    "                                 smooth_trib_influx=False,  # enforce that all mass comes into first point\n",
    "                                 flux_gate=[0.10, 0],  # the default in OGGM is to add the fluxgate to each fl\n",
    "                                 calving_use_limiter=True,\n",
    "                                 do_kcalving=True,\n",
    "                                 is_tidewater=True,\n",
    "                                 calving_k=0.2,\n",
    "                                )\n",
    "    \n",
    "# long enough to reach approx. equilibrium \n",
    "_, ds1 = one_model.run_until_and_store(6000)\n",
    "_, ds2 = two_model.run_until_and_store(6000)"
   ]
  },
  {
   "cell_type": "code",
   "execution_count": null,
   "metadata": {},
   "outputs": [],
   "source": [
    "ds1.volume_m3.plot();\n",
    "ds2.volume_m3.plot(linestyle='--');"
   ]
  },
  {
   "cell_type": "code",
   "execution_count": null,
   "metadata": {},
   "outputs": [],
   "source": [
    "df_diag = one_model.get_diagnostics(fl_id=0)\n",
    "df_diag_1 = two_model.get_diagnostics(fl_id=0)\n",
    "df_diag_2 = two_model.get_diagnostics(fl_id=1)"
   ]
  },
  {
   "cell_type": "code",
   "execution_count": null,
   "metadata": {},
   "outputs": [],
   "source": [
    "f, ax = plt.subplots(1, 1, figsize=(12, 5))\n",
    "ax.plot(xc, np.append(df_diag_1.surface_h, df_diag_2.surface_h), color='C0')\n",
    "ax.plot(xc, df_diag.surface_h, color='C1', linestyle='--')\n",
    "ax.plot(xc, np.append(bu_fls[0].bed_h, bu_fls[1].bed_h), color='k')\n",
    "plt.hlines(0, *xc[[0, -1]], color='C0', linestyles=':')\n",
    "plt.vlines(x_sep, -200, 600, color='C3', linestyles='-')\n",
    "plt.ylim(-350, 1000); plt.ylabel('Altitude [m]'); plt.xlabel('Distance along flowline [km]');"
   ]
  },
  {
   "cell_type": "code",
   "execution_count": null,
   "metadata": {},
   "outputs": [],
   "source": []
  }
 ],
 "metadata": {
  "hide_input": false,
  "kernelspec": {
   "display_name": "Python 3",
   "language": "python",
   "name": "python3"
  },
  "language_info": {
   "codemirror_mode": {
    "name": "ipython",
    "version": 3
   },
   "file_extension": ".py",
   "mimetype": "text/x-python",
   "name": "python",
   "nbconvert_exporter": "python",
   "pygments_lexer": "ipython3",
   "version": "3.5.2"
  },
  "latex_envs": {
   "LaTeX_envs_menu_present": true,
   "autoclose": false,
   "autocomplete": true,
   "bibliofile": "biblio.bib",
   "cite_by": "apalike",
   "current_citInitial": 1,
   "eqLabelWithNumbers": true,
   "eqNumInitial": 1,
   "hotkeys": {
    "equation": "Ctrl-E",
    "itemize": "Ctrl-I"
   },
   "labels_anchors": false,
   "latex_user_defs": false,
   "report_style_numbering": false,
   "user_envs_cfg": false
  },
  "nbTranslate": {
   "displayLangs": [
    "*"
   ],
   "hotkey": "alt-t",
   "langInMainMenu": true,
   "sourceLang": "en",
   "targetLang": "fr",
   "useGoogleTranslate": true
  },
  "toc": {
   "base_numbering": 1,
   "nav_menu": {},
   "number_sections": false,
   "sideBar": true,
   "skip_h1_title": true,
   "title_cell": "Table of Contents",
   "title_sidebar": "Contents",
   "toc_cell": false,
   "toc_position": {},
   "toc_section_display": true,
   "toc_window_display": false
  }
 },
 "nbformat": 4,
 "nbformat_minor": 4
}

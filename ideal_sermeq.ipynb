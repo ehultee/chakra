{
 "cells": [
  {
   "cell_type": "markdown",
   "metadata": {},
   "source": [
    "# Plastic glacier profiles on idealized bed"
   ]
  },
  {
   "cell_type": "code",
   "execution_count": null,
   "metadata": {},
   "outputs": [],
   "source": [
    "import chakra\n",
    "import chakra_sermeq\n",
    "import matplotlib.pyplot as plt\n",
    "import numpy as np"
   ]
  },
  {
   "cell_type": "markdown",
   "metadata": {},
   "source": [
    "### Set up standard idealized bed profile"
   ]
  },
  {
   "cell_type": "code",
   "execution_count": null,
   "metadata": {},
   "outputs": [],
   "source": [
    "# Bassis & Ultee bed profile\n",
    "fls = chakra.bu_tidewater_bed()"
   ]
  },
  {
   "cell_type": "code",
   "execution_count": null,
   "metadata": {},
   "outputs": [],
   "source": [
    "fig, ax = plt.subplots(1, figsize=(12, 5))\n",
    "x = fls[-1].dis_on_line * fls[-1].dx_meter / 1000\n",
    "ax.hlines(0, 0, 60, color='C0')\n",
    "ax.plot(x, fls[-1].bed_h, color='k')\n",
    "ax.set(ylim=(-350, 800), xlabel=('Distance along flowline [km]'), ylabel=('Altitude [m]'));\n",
    "plt.show()"
   ]
  },
  {
   "cell_type": "code",
   "execution_count": null,
   "metadata": {},
   "outputs": [],
   "source": [
    "len(fls[-1].bed_h)"
   ]
  },
  {
   "cell_type": "markdown",
   "metadata": {},
   "source": [
    "### Produce a SERMeQ-plastic surface profile"
   ]
  },
  {
   "cell_type": "markdown",
   "metadata": {},
   "source": [
    "For now, we are going to call a special class `chakra_sermeq.PlasticGlacier`.  Its function `plastic_profile` will produce a basic analytical surface profile for a quasi-steady-state plastic calving glacier.  This function was superseded by some fancier functionality in later SERMeQ, and we'll probably have to rewrite it again.  But it should do the job to start."
   ]
  },
  {
   "cell_type": "code",
   "execution_count": null,
   "metadata": {},
   "outputs": [],
   "source": [
    "g = chakra_sermeq.PlasticGlacier(yield_strength=50e3)\n",
    "x_nondim = x/(chakra_sermeq.L0/1000) # x is in km, not m\n",
    "bed_nondim = fls[-1].bed_h/chakra_sermeq.H0\n",
    "g.set_bed_function(x_nondim, bed_nondim)\n",
    "\n",
    "init_point = 40000/chakra_sermeq.L0 # initialize 40 km down flowline\n",
    "s = g.plastic_profile(Bfunction=g.bingham_const,\n",
    "                  startpoint=init_point, endpoint=min(x_nondim),\n",
    "                  hinit=g.balance_thickness(g.bed_function(init_point), g.bingham_const())\n",
    "                     )"
   ]
  },
  {
   "cell_type": "markdown",
   "metadata": {},
   "source": [
    "We need to translate from nondimensional to dimensional coordinates to display on the same plot as OGGM.  Notice that we are only storing x-coordinates (and bed and surface) where there is nonzero ice thickness--the model simply quits once it reaches the terminus."
   ]
  },
  {
   "cell_type": "code",
   "execution_count": null,
   "metadata": {},
   "outputs": [],
   "source": [
    "xs_dimensional = 10*np.array(s[0]) # multiply by 10, or L0/1000, because original units km\n",
    "bs_dimensional = chakra_sermeq.H0*np.array(s[2])\n",
    "ss_dimensional = chakra_sermeq.H0*np.array(s[1])"
   ]
  },
  {
   "cell_type": "code",
   "execution_count": null,
   "metadata": {},
   "outputs": [],
   "source": [
    "max(xs_dimensional)"
   ]
  },
  {
   "cell_type": "code",
   "execution_count": null,
   "metadata": {},
   "outputs": [],
   "source": [
    "fig, ax = plt.subplots(1, figsize=(12, 5))\n",
    "ax.plot(xs_dimensional, bs_dimensional, color='k') # bed topography\n",
    "ax.plot(xs_dimensional, ss_dimensional, color='b') # glacier surface\n",
    "ax.plot(x, fls[-1].bed_h, color='k', ls='-.') # topo from ideal OGGM\n",
    "ax.set(ylim=(-350, 800), xlabel=('Distance along flowline [km]'), ylabel=('Altitude [m]'));"
   ]
  },
  {
   "cell_type": "code",
   "execution_count": null,
   "metadata": {},
   "outputs": [],
   "source": []
  }
 ],
 "metadata": {
  "kernelspec": {
   "display_name": "Python 3",
   "language": "python",
   "name": "python3"
  },
  "language_info": {
   "codemirror_mode": {
    "name": "ipython",
    "version": 3
   },
   "file_extension": ".py",
   "mimetype": "text/x-python",
   "name": "python",
   "nbconvert_exporter": "python",
   "pygments_lexer": "ipython3",
   "version": "3.8.3"
  }
 },
 "nbformat": 4,
 "nbformat_minor": 4
}

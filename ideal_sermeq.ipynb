{
 "cells": [
  {
   "cell_type": "markdown",
   "metadata": {},
   "source": [
    "# Plastic glacier profiles on idealized bed"
   ]
  },
  {
   "cell_type": "code",
   "execution_count": null,
   "metadata": {},
   "outputs": [],
   "source": [
    "import chakra\n",
    "import sys\n",
    "sys.path.insert(0, '/Users/lizz/Documents/GitHub/plastic-networks')\n",
    "from SERMeQ.plastic_utilities_v2 import *\n",
    "from SERMeQ.flowline_class_hierarchy import *"
   ]
  },
  {
   "cell_type": "markdown",
   "metadata": {},
   "source": [
    "### Set up standard idealized bed profile"
   ]
  },
  {
   "cell_type": "code",
   "execution_count": null,
   "metadata": {},
   "outputs": [],
   "source": [
    "# Bassis & Ultee bed profile\n",
    "fls = chakra.bu_tidewater_bed()"
   ]
  },
  {
   "cell_type": "code",
   "execution_count": null,
   "metadata": {},
   "outputs": [],
   "source": [
    "fig, ax = plt.subplots(1, figsize=(12, 5))\n",
    "x = fls[-1].dis_on_line * fls[-1].dx_meter / 1000\n",
    "ax.hlines(0, 0, 60, color='C0')\n",
    "ax.plot(x, fls[-1].bed_h, color='k')\n",
    "ax.set(ylim=(-350, 800), xlabel=('Distance along flowline [km]'), ylabel=('Altitude [m]'));\n",
    "plt.show()"
   ]
  },
  {
   "cell_type": "markdown",
   "metadata": {},
   "source": [
    "### Produce a SERMeQ-plastic surface profile"
   ]
  },
  {
   "cell_type": "markdown",
   "metadata": {},
   "source": [
    "For now, we are going to call PlasticProfile, which produces a basic analytical surface profile for a quasi-steady-state plastic calving glacier.  This function was superseded by some fancier functionality in later SERMeQ"
   ]
  }
 ],
 "metadata": {
  "kernelspec": {
   "display_name": "Python 3",
   "language": "python",
   "name": "python3"
  },
  "language_info": {
   "codemirror_mode": {
    "name": "ipython",
    "version": 3
   },
   "file_extension": ".py",
   "mimetype": "text/x-python",
   "name": "python",
   "nbconvert_exporter": "python",
   "pygments_lexer": "ipython3",
   "version": "3.8.3"
  }
 },
 "nbformat": 4,
 "nbformat_minor": 4
}

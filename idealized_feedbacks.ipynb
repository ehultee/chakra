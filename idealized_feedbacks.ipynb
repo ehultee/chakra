{
 "cells": [
  {
   "cell_type": "code",
   "execution_count": null,
   "metadata": {},
   "outputs": [],
   "source": [
    "# This allows changes in chakra.py to be automatically re-imported\n",
    "# (this is tricky with OOP though, to be used with care)\n",
    "%load_ext autoreload\n",
    "%autoreload 1\n",
    "%aimport chakra"
   ]
  },
  {
   "cell_type": "code",
   "execution_count": null,
   "metadata": {},
   "outputs": [],
   "source": [
    "import matplotlib.pyplot as plt\n",
    "import numpy as np\n",
    "import time"
   ]
  },
  {
   "cell_type": "code",
   "execution_count": null,
   "metadata": {},
   "outputs": [],
   "source": [
    "# Get the default params\n",
    "from oggm import cfg\n",
    "cfg.initialize(logging_level='WORKFLOW')\n",
    "cfg.PARAMS['cfl_number'] = 0.01  # less numerical instabilities\n",
    "cfg.PARAMS['use_multiprocessing'] = False"
   ]
  },
  {
   "cell_type": "code",
   "execution_count": null,
   "metadata": {},
   "outputs": [],
   "source": [
    "from oggm.core.massbalance import ScalarMassBalance\n",
    "no_mb = ScalarMassBalance()"
   ]
  },
  {
   "cell_type": "markdown",
   "metadata": {},
   "source": [
    "# BU bed"
   ]
  },
  {
   "cell_type": "code",
   "execution_count": null,
   "metadata": {},
   "outputs": [],
   "source": [
    "bu_fl = chakra.bu_tidewater_bed()[0]\n",
    "\n",
    "xc = bu_fl.dis_on_line * bu_fl.dx_meter / 1000\n",
    "f, ax = plt.subplots(1, 1, figsize=(12, 5))\n",
    "ax.plot(xc, bu_fl.bed_h, color='k')\n",
    "plt.hlines(0, *xc[[0, -1]], color='C0', linestyles=':')\n",
    "plt.ylim(-350, 1000); plt.ylabel('Altitude [m]'); plt.xlabel('Distance along flowline [km]');"
   ]
  },
  {
   "cell_type": "markdown",
   "metadata": {},
   "source": [
    "# K-calving param"
   ]
  },
  {
   "cell_type": "markdown",
   "metadata": {},
   "source": [
    "Here I just want to check that the k-calving param is also applicable with the \"parameterization\" mechanism in Chakra which, after our discussion from just now, seems useless anyway:"
   ]
  },
  {
   "cell_type": "code",
   "execution_count": null,
   "metadata": {},
   "outputs": [],
   "source": [
    "def k_calving(model, dt):\n",
    "    \"\"\"k-calving parameterization from Oorlemans 2008\n",
    "\n",
    "    Parameters\n",
    "    ----------\n",
    "    model : the instance of the Chakra model at the moment it\n",
    "        calls this function\n",
    "    dt : the chosen timestep according to CFL\n",
    "    \"\"\"\n",
    "    \n",
    "    # Calving k needs to be defined at the top level by caller\n",
    "    k = calving_k / cfg.SEC_IN_YEAR\n",
    "    \n",
    "    model.calving_rate_myr = 0.\n",
    "    \n",
    "    fl = model.fls[-1]\n",
    "\n",
    "    # No need to do calving in these cases\n",
    "    if not model.do_calving or not fl.has_ice():\n",
    "        return\n",
    "\n",
    "    # We do calving only if the last glacier bed pixel is below water\n",
    "    # (this is to avoid calving elsewhere than at the front)\n",
    "    if fl.bed_h[fl.thick > 0][-1] > model.water_level:\n",
    "        return\n",
    "\n",
    "    # We do calving only if there is some ice above wl\n",
    "    last_above_wl = np.nonzero((fl.surface_h > model.water_level) &\n",
    "                               (fl.thick > 0))[0][-1]\n",
    "    if fl.bed_h[last_above_wl] > model.water_level:\n",
    "        return\n",
    "\n",
    "    # OK, so we're really calving\n",
    "    section = fl.section\n",
    "\n",
    "    # Calving law\n",
    "    h = fl.thick[last_above_wl]\n",
    "    d = h - (fl.surface_h[last_above_wl] - model.water_level)\n",
    "    q_calving = k * d * h * fl.widths_m[last_above_wl]\n",
    "    # Add to the bucket and the diagnostics\n",
    "    fl.calving_bucket_m3 += q_calving * dt\n",
    "    model.calving_m3_since_y0 += q_calving * dt\n",
    "    model.calving_rate_myr = (q_calving / section[last_above_wl] *\n",
    "                              cfg.SEC_IN_YEAR)\n",
    "\n",
    "    # See if we have ice below sea-water to clean out first\n",
    "    below_sl = (fl.surface_h < model.water_level) & (fl.thick > 0)\n",
    "    to_remove = np.sum(section[below_sl]) * fl.dx_meter\n",
    "    if 0 < to_remove < fl.calving_bucket_m3:\n",
    "        # This is easy, we remove everything\n",
    "        section[below_sl] = 0\n",
    "        fl.calving_bucket_m3 -= to_remove\n",
    "    elif to_remove > 0:\n",
    "        # We can only remove part of if\n",
    "        section[below_sl] = 0\n",
    "        section[last_above_wl + 1] = (to_remove - fl.calving_bucket_m3) / fl.dx_meter\n",
    "        fl.calving_bucket_m3 = 0\n",
    "\n",
    "    # The rest of the bucket might calve an entire grid point\n",
    "    vol_last = section[last_above_wl] * fl.dx_meter\n",
    "    if fl.calving_bucket_m3 > vol_last:\n",
    "        fl.calving_bucket_m3 -= vol_last\n",
    "        section[last_above_wl] = 0\n",
    "\n",
    "    # We update the glacier with our changes\n",
    "    fl.section = section"
   ]
  },
  {
   "cell_type": "markdown",
   "metadata": {},
   "source": [
    "### Equilibrium states "
   ]
  },
  {
   "cell_type": "code",
   "execution_count": null,
   "metadata": {},
   "outputs": [],
   "source": [
    "calving_k = 0.2 # default calving is huge\n",
    "\n",
    "to_plot = None\n",
    "keys = []\n",
    "for flux_gate in [0.06, 0.10, 0.16]:\n",
    "    \n",
    "    model = chakra.ChakraModel(chakra.bu_tidewater_bed(), mb_model=no_mb, \n",
    "                               flux_gate=flux_gate,\n",
    "                               calving_use_limiter=True,\n",
    "                               do_calving=True,\n",
    "                               apply_parameterization=k_calving,\n",
    "                               )\n",
    "    \n",
    "    # long enough to reach approx. equilibrium \n",
    "    _, ds = model.run_until_and_store(6000)\n",
    "    df_diag = model.get_diagnostics()\n",
    "    \n",
    "    if to_plot is None:\n",
    "        to_plot = df_diag\n",
    "    \n",
    "    key = 'Flux gate={:.02f}. Calving rate: {:.0f} m yr-1'.format(flux_gate, model.calving_rate_myr)\n",
    "    to_plot[key] = df_diag['surface_h']\n",
    "    keys.append(key)\n",
    "    \n",
    "    # Plot of volume\n",
    "    (ds.volume_m3 * 1e-9).plot(label=key);\n",
    "    \n",
    "plt.legend(); plt.ylabel('Volume [km$^{3}$]');\n",
    "to_plot.index = xc"
   ]
  },
  {
   "cell_type": "code",
   "execution_count": null,
   "metadata": {},
   "outputs": [],
   "source": [
    "f, ax = plt.subplots(1, 1, figsize=(12, 5))\n",
    "to_plot[keys].plot(ax=ax);\n",
    "to_plot.bed_h.plot(ax=ax, color='k')\n",
    "plt.hlines(0, *xc[[0, -1]], color='C0', linestyles=':')\n",
    "plt.ylim(-350, 1000); plt.ylabel('Altitude [m]'); plt.xlabel('Distance along flowline [km]');"
   ]
  },
  {
   "cell_type": "markdown",
   "metadata": {},
   "source": [
    "### Periodic forcing"
   ]
  },
  {
   "cell_type": "markdown",
   "metadata": {},
   "source": [
    "Repeat the BU paper figure:"
   ]
  },
  {
   "cell_type": "code",
   "execution_count": null,
   "metadata": {},
   "outputs": [],
   "source": [
    "# Periodic forcing\n",
    "years = np.arange(6001)\n",
    "flux = 0.4 + 0.4 * np.sin(2 * np.pi * years / 5000)\n",
    "def flux_gate(year):\n",
    "    return flux[int(year)]"
   ]
  },
  {
   "cell_type": "code",
   "execution_count": null,
   "metadata": {},
   "outputs": [],
   "source": [
    "calving_k = 1  # a bit more calving than before\n",
    "\n",
    "model = chakra.ChakraModel(chakra.bu_tidewater_bed(), mb_model=no_mb,\n",
    "                           glen_a=cfg.PARAMS['glen_a']*3, # make the glacier flow faster\n",
    "                           flux_gate=flux_gate,  # default is 0\n",
    "                           calving_use_limiter=True,\n",
    "                           do_calving=True,\n",
    "                           apply_parameterization=k_calving,\n",
    "                      )\n",
    "t0 = time.time()\n",
    "_, ds = model.run_until_and_store(len(flux)-1)\n",
    "print('Done! Time needed: {}s'.format(int(time.time()-t0)))"
   ]
  },
  {
   "cell_type": "code",
   "execution_count": null,
   "metadata": {},
   "outputs": [],
   "source": [
    "# Prepare the data for plotting\n",
    "df = (ds.volume_m3 * 1e-9).to_dataframe(name='Volume [km$^3$]')[['Volume [km$^3$]']]\n",
    "df['Length [m]'] = (ds['length_m'] / 1000).to_series()\n",
    "df['Calving rate [m y$^{-1}$]'] = ds['calving_rate_myr'].to_series()\n",
    "df['Forcing'] = flux\n",
    "\n",
    "# Thresholds\n",
    "deep_val = 27\n",
    "dfs = df.loc[(df['Length [m]'] >= deep_val) & (df.index < 5000)]\n",
    "deep_t0, deep_t1 = dfs.index[0], dfs.index[-1]\n",
    "dfs = df.loc[(df['Length [m]'] >= deep_val) & (df.index > 5000)]\n",
    "deep_t2 = dfs.index[0]\n",
    "\n",
    "bump_val = 37.5\n",
    "dfs = df.loc[(df['Length [m]'] >= bump_val) & (df.index < 5000)]\n",
    "bump_t0, bump_t1 = dfs.index[0], dfs.index[-1]"
   ]
  },
  {
   "cell_type": "code",
   "execution_count": null,
   "metadata": {},
   "outputs": [],
   "source": [
    "# The plot\n",
    "f, (ax1, ax2, ax3) = plt.subplots(3, 1, figsize=(9, 9), sharex=True)\n",
    "ts = df['Forcing']\n",
    "ts.plot(ax=ax1, color='C0');\n",
    "ax1.set_ylabel(ts.name)\n",
    "ts = df['Length [m]']\n",
    "ts.plot(ax=ax2, color='C1');\n",
    "ax2.hlines(deep_val, deep_t0, deep_t1, color='black', linestyles=':')\n",
    "ax2.hlines(deep_val, deep_t2, 6000, color='black', linestyles=':')\n",
    "ax2.hlines(bump_val, bump_t0, bump_t1, color='grey', linestyles='--')\n",
    "ax2.annotate('Deepening', (deep_t0, deep_val-5))\n",
    "ax2.annotate('Bump', (bump_t0, bump_val-5))\n",
    "ax2.set_ylabel(ts.name)\n",
    "# The calving rate is a bit noisy because of the bucket trick - we smooth\n",
    "ts = df['Calving rate [m y$^{-1}$]'].rolling(11, center=True).max()\n",
    "ts.plot(ax=ax3, color='C3')\n",
    "ax3.vlines([deep_t0, deep_t1, deep_t2], ts.min(), ts.max(), color='black', linestyles=':')\n",
    "ax3.vlines([bump_t0, bump_t1], ts.min(), ts.max(), color='grey', linestyles='--');\n",
    "ax3.set_ylabel(ts.name); ax3.set_xlabel('Years');"
   ]
  },
  {
   "cell_type": "markdown",
   "metadata": {},
   "source": [
    "# Now, do the same with Sermeq? "
   ]
  },
  {
   "cell_type": "markdown",
   "metadata": {},
   "source": [
    "As discussed today, the only thing we have to agree on are the bed and the flux of ice on the left-hand side of the domain."
   ]
  },
  {
   "cell_type": "markdown",
   "metadata": {},
   "source": [
    "The bed is:"
   ]
  },
  {
   "cell_type": "code",
   "execution_count": null,
   "metadata": {},
   "outputs": [],
   "source": [
    "# Equations in chakra.py\n",
    "bu_fl = chakra.bu_tidewater_bed()[0]\n",
    "\n",
    "# These two things are numpy arrays\n",
    "xc = bu_fl.dis_on_line * bu_fl.dx_meter / 1000\n",
    "bed_h = bu_fl.bed_h\n",
    "\n",
    "f, ax = plt.subplots(1, 1, figsize=(12, 5))\n",
    "ax.plot(xc, bed_h, color='k')\n",
    "plt.hlines(0, *xc[[0, -1]], color='C0', linestyles=':')\n",
    "plt.ylim(-350, 1000); plt.ylabel('Altitude [m]'); plt.xlabel('Distance along flowline [km]');"
   ]
  },
  {
   "cell_type": "markdown",
   "metadata": {},
   "source": [
    "The flux I used above (which is tuned so that it works nice with the chosen OGGM params, so you may adapt it so it works for you, and I'll try to get OGGM to play nicely):"
   ]
  },
  {
   "cell_type": "code",
   "execution_count": null,
   "metadata": {},
   "outputs": [],
   "source": [
    "# for the equilibrium states: [0.06, 0.10, 0.16] m3 of ice per second\n",
    "# to convert to m2 per second to remove the width dimension:\n",
    "bu_fl.widths_m[0]"
   ]
  },
  {
   "cell_type": "markdown",
   "metadata": {},
   "source": [
    "For the periodic case it is one order of magnitude larger - I deal with this higher flux with higher ice deformation and higher calving rates, leading to higher ice velocities, so that I can handle the flux:"
   ]
  },
  {
   "cell_type": "code",
   "execution_count": null,
   "metadata": {},
   "outputs": [],
   "source": [
    "# Still units of m3 of ice per second\n",
    "flux_gate(6000)\n",
    "# Just for an order of magnitude, this is what it looks like in m yr-1 at the end of the simulation:\n",
    "flux_gate(6000) / bu_fl.widths_m[0] / model.fls[0].thick[0] * cfg.SEC_IN_YEAR"
   ]
  },
  {
   "cell_type": "markdown",
   "metadata": {},
   "source": [
    "Which is a lot haha!"
   ]
  },
  {
   "cell_type": "code",
   "execution_count": null,
   "metadata": {},
   "outputs": [],
   "source": []
  }
 ],
 "metadata": {
  "hide_input": false,
  "kernelspec": {
   "display_name": "Python 3",
   "language": "python",
   "name": "python3"
  },
  "language_info": {
   "codemirror_mode": {
    "name": "ipython",
    "version": 3
   },
   "file_extension": ".py",
   "mimetype": "text/x-python",
   "name": "python",
   "nbconvert_exporter": "python",
   "pygments_lexer": "ipython3",
   "version": "3.5.2"
  },
  "latex_envs": {
   "LaTeX_envs_menu_present": true,
   "autoclose": false,
   "autocomplete": true,
   "bibliofile": "biblio.bib",
   "cite_by": "apalike",
   "current_citInitial": 1,
   "eqLabelWithNumbers": true,
   "eqNumInitial": 1,
   "hotkeys": {
    "equation": "Ctrl-E",
    "itemize": "Ctrl-I"
   },
   "labels_anchors": false,
   "latex_user_defs": false,
   "report_style_numbering": false,
   "user_envs_cfg": false
  },
  "nbTranslate": {
   "displayLangs": [
    "*"
   ],
   "hotkey": "alt-t",
   "langInMainMenu": true,
   "sourceLang": "en",
   "targetLang": "fr",
   "useGoogleTranslate": true
  },
  "toc": {
   "base_numbering": 1,
   "nav_menu": {},
   "number_sections": false,
   "sideBar": true,
   "skip_h1_title": true,
   "title_cell": "Table of Contents",
   "title_sidebar": "Contents",
   "toc_cell": false,
   "toc_position": {},
   "toc_section_display": true,
   "toc_window_display": false
  }
 },
 "nbformat": 4,
 "nbformat_minor": 4
}

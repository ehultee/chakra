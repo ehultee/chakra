{
 "cells": [
  {
   "cell_type": "code",
   "execution_count": null,
   "metadata": {},
   "outputs": [],
   "source": [
    "# This allows changes in chakra.py to be automatically re-imported\n",
    "# (this is tricky with OOP though, to be used with care)\n",
    "%load_ext autoreload\n",
    "%autoreload 1\n",
    "%aimport chakra"
   ]
  },
  {
   "cell_type": "code",
   "execution_count": null,
   "metadata": {},
   "outputs": [],
   "source": [
    "import matplotlib.pyplot as plt\n",
    "import numpy as np"
   ]
  },
  {
   "cell_type": "markdown",
   "metadata": {},
   "source": [
    "### Simple glacier on BU bed, no calving"
   ]
  },
  {
   "cell_type": "code",
   "execution_count": null,
   "metadata": {},
   "outputs": [],
   "source": [
    "# Get the default params\n",
    "from oggm import cfg\n",
    "cfg.initialize()"
   ]
  },
  {
   "cell_type": "code",
   "execution_count": null,
   "metadata": {},
   "outputs": [],
   "source": [
    "# Bassis & Ultee bed profile\n",
    "fls = chakra.bu_tidewater_bed()\n",
    "# Constant zero mass-balance\n",
    "mb_mod = chakra.FixedMassBalance()"
   ]
  },
  {
   "cell_type": "code",
   "execution_count": null,
   "metadata": {},
   "outputs": [],
   "source": [
    "plt.figure(figsize=(12, 5))\n",
    "x = fls[-1].dis_on_line * fls[-1].dx_meter / 1000\n",
    "plt.hlines(0, 0, 60, color='C0')\n",
    "plt.plot(x, fls[-1].bed_h, color='k')\n",
    "plt.ylim(-350, 800); plt.xlabel('Distance along flowline [km]'); plt.ylabel('Altitude [m]');"
   ]
  },
  {
   "cell_type": "markdown",
   "metadata": {},
   "source": [
    "We now instanciate the model. We use a \"flux-gate\", i.e a constant flux through the left boundary (units: m3 of ice per second). This value can be changed at wish. If the model becomes unstable one can play with the time steps, or the ``flux_gate_buildup`` kwarg. Here are the docs:"
   ]
  },
  {
   "cell_type": "code",
   "execution_count": null,
   "metadata": {},
   "outputs": [],
   "source": [
    "chakra.CalvingModel?"
   ]
  },
  {
   "cell_type": "code",
   "execution_count": null,
   "metadata": {},
   "outputs": [],
   "source": [
    "# The actual model\n",
    "model = chakra.CalvingModel(fls, mb_model=mb_mod, flux_gate=0.07,\n",
    "                            fs=5.7e-20*4,  # quite slidy - but this is not slipping - maybe we should add slippping as well\n",
    "                            )"
   ]
  },
  {
   "cell_type": "code",
   "execution_count": null,
   "metadata": {},
   "outputs": [],
   "source": [
    "# Run for a long time\n",
    "_, ds = model.run_until_and_store(5000)"
   ]
  },
  {
   "cell_type": "code",
   "execution_count": null,
   "metadata": {},
   "outputs": [],
   "source": [
    "# Mass-conservation check\n",
    "np.testing.assert_allclose(model.flux_gate_volume, ds.volume_m3[-1])\n",
    "print('Volume: {:.2f} km3'.format(model.flux_gate_volume*1e-9))"
   ]
  },
  {
   "cell_type": "markdown",
   "metadata": {},
   "source": [
    "The diagnostics is a new way to access data that was added to OGGM for chakkra:"
   ]
  },
  {
   "cell_type": "code",
   "execution_count": null,
   "metadata": {},
   "outputs": [],
   "source": [
    "model.get_diagnostics?"
   ]
  },
  {
   "cell_type": "code",
   "execution_count": null,
   "metadata": {},
   "outputs": [],
   "source": [
    "df_diag = model.get_diagnostics()\n",
    "df_diag.head()"
   ]
  },
  {
   "cell_type": "code",
   "execution_count": null,
   "metadata": {},
   "outputs": [],
   "source": [
    "plt.figure(figsize=(12, 5))\n",
    "plt.hlines(0, 0, 60, color='C0')\n",
    "plt.plot(x, df_diag.bed_h, color='k')\n",
    "plt.plot(x, df_diag.surface_h, color='C3')\n",
    "plt.ylim(-350, 800); plt.xlabel('Distance along flowline [km]'); plt.ylabel('Altitude [m]');"
   ]
  },
  {
   "cell_type": "markdown",
   "metadata": {},
   "source": [
    "### Simple glacier on BU bed, naive calving"
   ]
  },
  {
   "cell_type": "markdown",
   "metadata": {},
   "source": [
    "I added a mechanism to call an arbitrary function at the end of a standard model time step. I don't know if this will be enough for your purposes (probably not). Another approach would be to modify the code of the class directly, of course. \n",
    "\n",
    "Here we illustrate how it works:"
   ]
  },
  {
   "cell_type": "code",
   "execution_count": null,
   "metadata": {},
   "outputs": [],
   "source": [
    "def simple_calving(model, dt):\n",
    "    \"\"\"Remove all ice as \"calving\" when water depth is > 100m.\n",
    "    \n",
    "    We will give this func to the model. \n",
    "    It will be called at each time step.\n",
    "    \n",
    "    Parameters\n",
    "    ----------\n",
    "    model : the instance of the CalvingModel at the moment it\n",
    "        calls this function\n",
    "    dt : the chosen timestep according to CFL\n",
    "    \"\"\"\n",
    "    for fl in model.fls:\n",
    "        # Where to remove ice\n",
    "        loc_remove = np.nonzero(fl.bed_h < -100)\n",
    "        # How much will we remove\n",
    "        section = fl.section\n",
    "        vol_removed = np.sum(section[loc_remove] * fl.dx_meter)\n",
    "        # Effectively remove\n",
    "        section[loc_remove] = 0\n",
    "        fl.section = section\n",
    "        # Update the model attributes\n",
    "        try:\n",
    "            model.simple_calving_volume += vol_removed\n",
    "        except AttributeError:\n",
    "            # this happens only the first time\n",
    "            model.simple_calving_volume = vol_removed"
   ]
  },
  {
   "cell_type": "markdown",
   "metadata": {},
   "source": [
    "We will now pass it to the model and see how it works:"
   ]
  },
  {
   "cell_type": "code",
   "execution_count": null,
   "metadata": {},
   "outputs": [],
   "source": [
    "# Same as before but with the calving param\n",
    "fls = chakra.bu_tidewater_bed()\n",
    "mb_mod = chakra.FixedMassBalance()\n",
    "model = chakra.CalvingModel(fls, mb_model=mb_mod, flux_gate=0.07,\n",
    "                            fs=5.7e-20*4,  \n",
    "                            apply_parameterization=simple_calving,  # we just give the func here\n",
    "                            )"
   ]
  },
  {
   "cell_type": "code",
   "execution_count": null,
   "metadata": {},
   "outputs": [],
   "source": [
    "# Run for a long time\n",
    "_, ds = model.run_until_and_store(5000)"
   ]
  },
  {
   "cell_type": "code",
   "execution_count": null,
   "metadata": {},
   "outputs": [],
   "source": [
    "# Mass-conservation check (is different)\n",
    "np.testing.assert_allclose(model.flux_gate_volume, ds.volume_m3[-1] + model.simple_calving_volume)\n",
    "print('Volume: {:.2f} km3'.format(ds.volume_m3.data[-1]*1e-9))\n",
    "print('Calved: {:.2f} km3'.format(model.simple_calving_volume*1e-9))"
   ]
  },
  {
   "cell_type": "code",
   "execution_count": null,
   "metadata": {},
   "outputs": [],
   "source": [
    "df_diag_calving = model.get_diagnostics()"
   ]
  },
  {
   "cell_type": "code",
   "execution_count": null,
   "metadata": {},
   "outputs": [],
   "source": [
    "plt.figure(figsize=(12, 5))\n",
    "plt.hlines(0, 0, 60, color='C0')\n",
    "plt.plot(x, df_diag.bed_h, color='k')\n",
    "plt.plot(x, df_diag.surface_h, color='C3', label='Without calving')\n",
    "plt.plot(x, df_diag_calving.surface_h, color='C2', label='With calving')\n",
    "plt.ylim(-350, 800); plt.xlabel('Distance along flowline [km]'); plt.ylabel('Altitude [m]');"
   ]
  },
  {
   "cell_type": "code",
   "execution_count": null,
   "metadata": {},
   "outputs": [],
   "source": [
    "# Change units for plot\n",
    "plt.figure(figsize=(12, 5))\n",
    "plt.plot(x, df_diag.ice_velocity * cfg.SEC_IN_YEAR, color='C3', label='Without calving')\n",
    "plt.plot(x, df_diag_calving.ice_velocity * cfg.SEC_IN_YEAR, color='C2', label='With calving')\n",
    "plt.xlabel('Distance along flowline [km]'); plt.ylabel('Bulk velocity [m yr-1]');"
   ]
  },
  {
   "cell_type": "code",
   "execution_count": null,
   "metadata": {},
   "outputs": [],
   "source": [
    "# Volume evolution with time in the calving case\n",
    "(ds.volume_m3 * 1e-9).plot();\n",
    "plt.ylabel('Calving glacier volume [km3]');"
   ]
  },
  {
   "cell_type": "markdown",
   "metadata": {},
   "source": [
    "That's all for today!"
   ]
  }
 ],
 "metadata": {
  "kernelspec": {
   "display_name": "Python 3",
   "language": "python",
   "name": "python3"
  },
  "language_info": {
   "codemirror_mode": {
    "name": "ipython",
    "version": 3
   },
   "file_extension": ".py",
   "mimetype": "text/x-python",
   "name": "python",
   "nbconvert_exporter": "python",
   "pygments_lexer": "ipython3",
   "version": "3.5.2"
  }
 },
 "nbformat": 4,
 "nbformat_minor": 4
}

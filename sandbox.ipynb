{
 "cells": [
  {
   "cell_type": "code",
   "execution_count": null,
   "metadata": {},
   "outputs": [],
   "source": [
    "# This allows changes in chakra.py to be automatically re-imported\n",
    "# (this is tricky with OOP though, to be used with care)\n",
    "%load_ext autoreload\n",
    "%autoreload 1\n",
    "%aimport chakra"
   ]
  },
  {
   "cell_type": "code",
   "execution_count": null,
   "metadata": {},
   "outputs": [],
   "source": [
    "import matplotlib.pyplot as plt\n",
    "import numpy as np"
   ]
  },
  {
   "cell_type": "markdown",
   "metadata": {},
   "source": [
    "### Simple glacier on BU bed, no calving"
   ]
  },
  {
   "cell_type": "code",
   "execution_count": null,
   "metadata": {},
   "outputs": [],
   "source": [
    "# Get the default params\n",
    "from oggm import cfg\n",
    "cfg.initialize()"
   ]
  },
  {
   "cell_type": "code",
   "execution_count": null,
   "metadata": {},
   "outputs": [],
   "source": [
    "# Bassis & Ultee bed profile\n",
    "fls = chakra.bu_tidewater_bed()\n",
    "# Constant zero mass-balance\n",
    "from oggm.core.massbalance import ScalarMassBalance\n",
    "mb_mod = ScalarMassBalance()"
   ]
  },
  {
   "cell_type": "code",
   "execution_count": null,
   "metadata": {},
   "outputs": [],
   "source": [
    "plt.figure(figsize=(12, 5))\n",
    "x = fls[-1].dis_on_line * fls[-1].dx_meter / 1000\n",
    "plt.hlines(0, 0, 60, color='C0')\n",
    "plt.plot(x, fls[-1].bed_h, color='k')\n",
    "plt.ylim(-350, 800); plt.xlabel('Distance along flowline [km]'); plt.ylabel('Altitude [m]');"
   ]
  },
  {
   "cell_type": "markdown",
   "metadata": {},
   "source": [
    "We now instanciate the model. We use a \"flux-gate\", i.e a constant flux through the left boundary (units: m3 of ice per second). This value can be changed at wish. If the model becomes unstable one can play with the time steps, or the ``flux_gate_buildup`` kwarg. Here are the docs:"
   ]
  },
  {
   "cell_type": "code",
   "execution_count": null,
   "metadata": {},
   "outputs": [],
   "source": [
    "chakra.ChakraModel?"
   ]
  },
  {
   "cell_type": "code",
   "execution_count": null,
   "metadata": {},
   "outputs": [],
   "source": [
    "# The actual model\n",
    "model = chakra.ChakraModel(fls, mb_model=mb_mod, flux_gate=0.07,\n",
    "                           fs=5.7e-20*4,  # quite slidy - but this is not slipping - maybe we should add slippping as well\n",
    "                           )"
   ]
  },
  {
   "cell_type": "code",
   "execution_count": null,
   "metadata": {},
   "outputs": [],
   "source": [
    "# Run for a long time\n",
    "_, ds = model.run_until_and_store(5000)"
   ]
  },
  {
   "cell_type": "code",
   "execution_count": null,
   "metadata": {},
   "outputs": [],
   "source": [
    "# Mass-conservation check\n",
    "np.testing.assert_allclose(model.flux_gate_m3_since_y0, ds.volume_m3[-1])\n",
    "print('Volume: {:.2f} km3'.format(model.flux_gate_m3_since_y0*1e-9))"
   ]
  },
  {
   "cell_type": "markdown",
   "metadata": {},
   "source": [
    "The diagnostics is a new way to access data that was added to OGGM:"
   ]
  },
  {
   "cell_type": "code",
   "execution_count": null,
   "metadata": {},
   "outputs": [],
   "source": [
    "model.get_diagnostics?"
   ]
  },
  {
   "cell_type": "code",
   "execution_count": null,
   "metadata": {},
   "outputs": [],
   "source": [
    "df_diag = model.get_diagnostics()\n",
    "df_diag.head()"
   ]
  },
  {
   "cell_type": "code",
   "execution_count": null,
   "metadata": {},
   "outputs": [],
   "source": [
    "plt.figure(figsize=(12, 5))\n",
    "plt.hlines(0, 0, 60, color='C0')\n",
    "plt.plot(x, df_diag.bed_h, color='k')\n",
    "plt.plot(x, df_diag.surface_h, color='C3')\n",
    "plt.ylim(-350, 800); plt.xlabel('Distance along flowline [km]'); plt.ylabel('Altitude [m]');"
   ]
  },
  {
   "cell_type": "markdown",
   "metadata": {},
   "source": [
    "### Simple glacier on BU bed, naive calving"
   ]
  },
  {
   "cell_type": "markdown",
   "metadata": {},
   "source": [
    "I added a mechanism to call an arbitrary function at the end of a standard model time step. I don't know if this will be enough for your purposes (probably not). Another approach would be to modify the code of the class directly, of course. \n",
    "\n",
    "Here we illustrate how it works:"
   ]
  },
  {
   "cell_type": "code",
   "execution_count": null,
   "metadata": {},
   "outputs": [],
   "source": [
    "def simple_calving(model, dt):\n",
    "    \"\"\"Remove all ice as \"calving\" when water depth is > 100m.\n",
    "    \n",
    "    We will give this func to the model. \n",
    "    It will be called at each time step.\n",
    "   \n",
    "    It needs to update:\n",
    "    \n",
    "    model.calving_m3_since_y0\n",
    "    model.calving_rate_myr\n",
    "    model.section\n",
    "\n",
    "    Parameters\n",
    "    ----------\n",
    "    model : the instance of the Chakra model at the moment it\n",
    "        calls this function\n",
    "    dt : the chosen timestep according to CFL\n",
    "    \"\"\"\n",
    "    \n",
    "    # We assume only one flowline (this is OK for now)\n",
    "    fl = model.fls[-1]\n",
    "\n",
    "    # Where to remove ice\n",
    "    loc_remove = np.nonzero(fl.bed_h < -100)[0]\n",
    "    # How much will we remove\n",
    "    section = fl.section\n",
    "    vol_removed = np.sum(section[loc_remove] * fl.dx_meter)\n",
    "    # Effectively remove mass\n",
    "    section[loc_remove] = 0\n",
    "\n",
    "    # Updates so that our parameterization actually does something\n",
    "    fl.section = section\n",
    "\n",
    "    # Total calved volume\n",
    "    model.calving_m3_since_y0 += vol_removed\n",
    "\n",
    "    # The following is a very silly way to compute calving rate,\n",
    "    # but the units are ok.\n",
    "\n",
    "    # Calving rate in units of meter per time\n",
    "    rate = vol_removed / fl.section[loc_remove[0] - 1]\n",
    "    # To units of m per year\n",
    "    model.calving_rate_myr = rate / dt * cfg.SEC_IN_YEAR\n",
    "\n",
    "    # This is a way for the programmer to add an attribute - here dummy one\n",
    "    try:\n",
    "        model.number_of_times_called += 1\n",
    "    except AttributeError:\n",
    "        # this happens only the first time\n",
    "        model.number_of_times_called = 1"
   ]
  },
  {
   "cell_type": "markdown",
   "metadata": {},
   "source": [
    "We will now pass it to the model and see how it works:"
   ]
  },
  {
   "cell_type": "code",
   "execution_count": null,
   "metadata": {},
   "outputs": [],
   "source": [
    "# Same as before but with the calving param\n",
    "fls = chakra.bu_tidewater_bed()\n",
    "mb_mod = ScalarMassBalance()\n",
    "model = chakra.ChakraModel(fls, mb_model=mb_mod, flux_gate=0.07,\n",
    "                           fs=5.7e-20*4,  \n",
    "                           apply_parameterization=simple_calving,  # we just give the func here\n",
    "                           )"
   ]
  },
  {
   "cell_type": "code",
   "execution_count": null,
   "metadata": {},
   "outputs": [],
   "source": [
    "# Run for a long time\n",
    "_, ds = model.run_until_and_store(5000)"
   ]
  },
  {
   "cell_type": "code",
   "execution_count": null,
   "metadata": {},
   "outputs": [],
   "source": [
    "# Mass-conservation check (is different)\n",
    "np.testing.assert_allclose(model.flux_gate_m3_since_y0, ds.volume_m3[-1] + model.calving_m3_since_y0)\n",
    "print('Volume: {:.2f} km3'.format(ds.volume_m3.data[-1]*1e-9))\n",
    "print('Calved: {:.2f} km3'.format(model.calving_m3_since_y0*1e-9))"
   ]
  },
  {
   "cell_type": "code",
   "execution_count": null,
   "metadata": {},
   "outputs": [],
   "source": [
    "df_diag_calving = model.get_diagnostics()"
   ]
  },
  {
   "cell_type": "code",
   "execution_count": null,
   "metadata": {},
   "outputs": [],
   "source": [
    "plt.figure(figsize=(12, 5))\n",
    "plt.hlines(0, 0, 60, color='C0')\n",
    "plt.plot(x, df_diag.bed_h, color='k')\n",
    "plt.plot(x, df_diag.surface_h, color='C3', label='Without calving')\n",
    "plt.plot(x, df_diag_calving.surface_h, color='C2', label='With calving')\n",
    "plt.ylim(-350, 800); plt.xlabel('Distance along flowline [km]'); plt.ylabel('Altitude [m]');"
   ]
  },
  {
   "cell_type": "code",
   "execution_count": null,
   "metadata": {},
   "outputs": [],
   "source": [
    "# Change units for plot\n",
    "plt.figure(figsize=(12, 5))\n",
    "plt.plot(x, df_diag.ice_velocity * cfg.SEC_IN_YEAR, color='C3', label='Without calving')\n",
    "plt.plot(x, df_diag_calving.ice_velocity * cfg.SEC_IN_YEAR, color='C2', label='With calving')\n",
    "plt.xlabel('Distance along flowline [km]'); plt.ylabel('Bulk velocity [m yr-1]');"
   ]
  },
  {
   "cell_type": "code",
   "execution_count": null,
   "metadata": {},
   "outputs": [],
   "source": [
    "# Volume evolution with time in the calving case\n",
    "(ds.volume_m3 * 1e-9).plot();\n",
    "plt.ylabel('Calving glacier volume [km3]');"
   ]
  },
  {
   "cell_type": "code",
   "execution_count": null,
   "metadata": {},
   "outputs": [],
   "source": [
    "# Calving rate\n",
    "ds.calving_rate_myr.plot();"
   ]
  },
  {
   "cell_type": "markdown",
   "metadata": {},
   "source": [
    "That's all for today!"
   ]
  },
  {
   "cell_type": "markdown",
   "metadata": {},
   "source": [
    "## Water balance calving condition"
   ]
  },
  {
   "cell_type": "markdown",
   "metadata": {},
   "source": [
    "We define a new condition to enforce stress balance at the terminus.  This will remove ice that fails the plastic terminus balance condition."
   ]
  },
  {
   "cell_type": "code",
   "execution_count": null,
   "metadata": {},
   "outputs": [],
   "source": [
    "# Define Dimensional and Dimensionless parameters\n",
    "H0=1e3 #characteristic height for nondimensionalisation \n",
    "L0=10e3 #characteristic length (10km)\n",
    "g = 9.8 #acceleration due to gravity.  Default 9.8 m/s^2\n",
    "rho_ice = 920.0 #ice density kg/m^3\n",
    "rho_sea=1020.0 #seawater density kg/m^3\n",
    "\n",
    "def Bingham_num(tau_y=150e3):\n",
    "    \"\"\"Compute the nondimensional Bingham number for this glacier.\n",
    "    Bingham number can be constant or evolve with basal effective pressure through a Mohr-Coulomb relation.  For now, we use constant.\n",
    "    \n",
    "    Parameters\n",
    "    ----------\n",
    "    tau_y : yield strength in Pa.  Default 150e3 Pa\n",
    "    \n",
    "    Returns\n",
    "    ----------\n",
    "    B : the Bingham number\n",
    "    \"\"\"\n",
    "    return tau_y/(rho_ice*g*H0**2/L0)\n",
    "\n",
    "def BalanceThick(bed, tau_y=150e3):\n",
    "    \"\"\"Water balance ice thickness.\n",
    "    Arguments:\n",
    "        bed : bed elevation in m a.s.l.\n",
    "        tau_y : yield strength in Pa.  Default 150e3 Pa\n",
    "\n",
    "    Returns ice thickness in m for water balance at this point.\n",
    "    \"\"\"\n",
    "    B = Bingham_num(tau_y=tau_y)\n",
    "    \n",
    "    bed_nondim = bed/H0\n",
    "    if bed_nondim<0: #if there is water\n",
    "        D = -1*bed_nondim\n",
    "    else:\n",
    "        D = 0\n",
    "    balance_thick_nondim = (2*B*H0/L0) + np.sqrt((rho_sea*(D**2)/rho_ice)+(H0*B/L0)**2)\n",
    "    return H0*balance_thick_nondim\n",
    "    \n",
    "def stress_balance_calving(model, dt, yield_strength=150e3):\n",
    "    \"\"\"Remove ice seaward of a stress-balanced terminus.  \n",
    "    We identify the ice thickness of a stress-balanced terminus using the plastic approximation.\n",
    "    \n",
    "    We will give this func to the model. \n",
    "    It will be called at each time step.\n",
    "    \n",
    "    Parameters\n",
    "    ----------\n",
    "    model : the instance of the CalvingModel at the moment it\n",
    "        calls this function\n",
    "    dt : the chosen timestep according to CFL\n",
    "    yield_strength : yield strength of glacier ice to feed the model.  Default 150 kPa\n",
    "    \"\"\"\n",
    "    \n",
    "    fl = model.fls[0]\n",
    "    \n",
    "    # Where to remove ice\n",
    "    ice_thickness = fl.surface_h - fl.bed_h # I think this is going to make an array, right?\n",
    "    water_present = np.array(fl.bed_h < -10)  # test for water depth too\n",
    "    balance_thickness = [BalanceThick(b, tau_y=yield_strength) for b in fl.bed_h]\n",
    "    loc_remove = np.nonzero(ice_thickness < water_present*balance_thickness)[0] # apply both conditions\n",
    "    # How much will we remove\n",
    "    section = fl.section\n",
    "    vol_removed = np.sum(section[loc_remove] * fl.dx_meter)\n",
    "    # Effectively remove\n",
    "    section[loc_remove] = 0\n",
    "    fl.section = section\n",
    "        \n",
    "    # Update the model attributes\n",
    "    # Total calved volume\n",
    "    model.calving_m3_since_y0 += vol_removed\n",
    "\n",
    "    # The following is a very silly way to compute calving rate,\n",
    "    # but the units are ok.\n",
    "\n",
    "    # Calving rate in units of meter per time\n",
    "    rate = vol_removed / fl.section[loc_remove[0] - 1]\n",
    "    # To units of m per year\n",
    "    model.calving_rate_myr = rate / dt * cfg.SEC_IN_YEAR"
   ]
  },
  {
   "cell_type": "markdown",
   "metadata": {},
   "source": [
    "Now perform the same test as with simple_calving:"
   ]
  },
  {
   "cell_type": "code",
   "execution_count": null,
   "metadata": {},
   "outputs": [],
   "source": [
    "# Same as before but with stress calving param\n",
    "fls = chakra.bu_tidewater_bed()\n",
    "mb_mod = ScalarMassBalance()\n",
    "model = chakra.ChakraModel(fls, mb_model=mb_mod, flux_gate=0.07,\n",
    "                           fs=5.7e-20*4,  \n",
    "                           apply_parameterization=stress_balance_calving,  # we just give the func here\n",
    "                           )"
   ]
  },
  {
   "cell_type": "code",
   "execution_count": null,
   "metadata": {},
   "outputs": [],
   "source": [
    "# Run for a long time\n",
    "# Fabi: this is quite slow because of the number of computations\n",
    "# and possible the strong ice removal creating high velocities and small time steps\n",
    "# Optimisations might include computing the stress balance only every year, not \n",
    "# at each numerical timestep.\n",
    "_, ds = model.run_until_and_store(5000)"
   ]
  },
  {
   "cell_type": "code",
   "execution_count": null,
   "metadata": {},
   "outputs": [],
   "source": [
    "# Mass-conservation check (is different)\n",
    "np.testing.assert_allclose(model.flux_gate_m3_since_y0, ds.volume_m3[-1] + model.calving_m3_since_y0)\n",
    "print('Volume: {:.2f} km3'.format(ds.volume_m3.data[-1]*1e-9))\n",
    "print('Calved: {:.2f} km3'.format(model.calving_m3_since_y0*1e-9))"
   ]
  },
  {
   "cell_type": "code",
   "execution_count": null,
   "metadata": {},
   "outputs": [],
   "source": [
    "df_diag_calving = model.get_diagnostics()"
   ]
  },
  {
   "cell_type": "code",
   "execution_count": null,
   "metadata": {},
   "outputs": [],
   "source": [
    "plt.figure(figsize=(12, 5))\n",
    "plt.hlines(0, 0, 60, color='C0')\n",
    "plt.plot(x, df_diag.bed_h, color='k')\n",
    "plt.plot(x, df_diag.surface_h, color='C3', label='Without calving')\n",
    "plt.plot(x, df_diag_calving.surface_h, color='C2', label='With calving')\n",
    "plt.ylim(-350, 800); plt.xlabel('Distance along flowline [km]'); plt.ylabel('Altitude [m]');"
   ]
  },
  {
   "cell_type": "code",
   "execution_count": null,
   "metadata": {},
   "outputs": [],
   "source": [
    "# Change units for plot\n",
    "plt.figure(figsize=(12, 5))\n",
    "plt.plot(x, df_diag.ice_velocity * cfg.SEC_IN_YEAR, color='C3', label='Without calving')\n",
    "plt.plot(x, df_diag_calving.ice_velocity * cfg.SEC_IN_YEAR, color='C2', label='With calving')\n",
    "plt.xlabel('Distance along flowline [km]'); plt.ylabel('Bulk velocity [m yr-1]');"
   ]
  },
  {
   "cell_type": "code",
   "execution_count": null,
   "metadata": {},
   "outputs": [],
   "source": [
    "# Volume evolution with time in the calving case\n",
    "(ds.volume_m3 * 1e-9).plot();\n",
    "plt.ylabel('Calving glacier volume [km3]');"
   ]
  },
  {
   "cell_type": "markdown",
   "metadata": {},
   "source": [
    "It looks like our stress-balance condition removed way too much ice.  Let's diagnose: what quantities are we comparing?\n",
    "\n",
    "We plot what the stress-balance ice thickness is for this yield strength."
   ]
  },
  {
   "cell_type": "code",
   "execution_count": null,
   "metadata": {},
   "outputs": [],
   "source": [
    "balance_thickness_profile = [BalanceThick(b, tau_y=150e3) for b in model.fls[0].bed_h]\n",
    "ice_thickness_profile = df_diag.surface_h - model.fls[0].bed_h\n",
    "\n",
    "plt.figure(figsize=(12,5))\n",
    "plt.plot(x, balance_thickness_profile)\n",
    "plt.plot(x, ice_thickness_profile); # compare with the ice thickness in the without-calving case"
   ]
  },
  {
   "cell_type": "code",
   "execution_count": null,
   "metadata": {},
   "outputs": [],
   "source": [
    "# Calving rate\n",
    "ds.calving_rate_myr.plot();"
   ]
  },
  {
   "cell_type": "code",
   "execution_count": null,
   "metadata": {},
   "outputs": [],
   "source": []
  }
 ],
 "metadata": {
  "hide_input": false,
  "kernelspec": {
   "display_name": "Python 3",
   "language": "python",
   "name": "python3"
  },
  "language_info": {
   "codemirror_mode": {
    "name": "ipython",
    "version": 3
   },
   "file_extension": ".py",
   "mimetype": "text/x-python",
   "name": "python",
   "nbconvert_exporter": "python",
   "pygments_lexer": "ipython3",
   "version": "3.5.2"
  },
  "latex_envs": {
   "LaTeX_envs_menu_present": true,
   "autoclose": false,
   "autocomplete": true,
   "bibliofile": "biblio.bib",
   "cite_by": "apalike",
   "current_citInitial": 1,
   "eqLabelWithNumbers": true,
   "eqNumInitial": 1,
   "hotkeys": {
    "equation": "Ctrl-E",
    "itemize": "Ctrl-I"
   },
   "labels_anchors": false,
   "latex_user_defs": false,
   "report_style_numbering": false,
   "user_envs_cfg": false
  },
  "nbTranslate": {
   "displayLangs": [
    "*"
   ],
   "hotkey": "alt-t",
   "langInMainMenu": true,
   "sourceLang": "en",
   "targetLang": "fr",
   "useGoogleTranslate": true
  },
  "toc": {
   "base_numbering": 1,
   "nav_menu": {},
   "number_sections": false,
   "sideBar": true,
   "skip_h1_title": true,
   "title_cell": "Table of Contents",
   "title_sidebar": "Contents",
   "toc_cell": false,
   "toc_position": {},
   "toc_section_display": true,
   "toc_window_display": false
  }
 },
 "nbformat": 4,
 "nbformat_minor": 4
}
